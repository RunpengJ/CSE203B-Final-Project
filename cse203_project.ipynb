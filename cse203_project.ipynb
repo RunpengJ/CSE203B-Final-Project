{
  "cells": [
    {
      "cell_type": "markdown",
      "id": "d0eada47-8492-4048-9f77-d0ed81881a61",
      "metadata": {
        "id": "d0eada47-8492-4048-9f77-d0ed81881a61"
      },
      "source": [
        "# Homework 1: Regression and classification\n"
      ]
    },
    {
      "cell_type": "markdown",
      "id": "35970852-6e0e-40ac-8c96-69f610ad9eab",
      "metadata": {
        "id": "35970852-6e0e-40ac-8c96-69f610ad9eab"
      },
      "source": [
        "## Regression: download the steam dataset:\n",
        "https://cseweb.ucsd.edu/classes/fa24/cse258-b/files/steam.json.gz\n",
        "\n",
        "Experiments in this section will only use the “time played” (d[“hours”]) and the length of the review text (len(d[“text”)])."
      ]
    },
    {
      "cell_type": "code",
      "execution_count": null,
      "id": "xXsYM4Gr3deX",
      "metadata": {
        "colab": {
          "base_uri": "https://localhost:8080/"
        },
        "id": "xXsYM4Gr3deX",
        "outputId": "8ec56910-6c90-422f-c941-397ab7819526"
      },
      "outputs": [
        {
          "name": "stdout",
          "output_type": "stream",
          "text": [
            "Mounted at /content/drive\n",
            "/content/drive/My Drive/Colab Notebooks\n"
          ]
        }
      ],
      "source": [
        "# This part of code is from PA3\n",
        "# This mounts your Google Drive to the Colab VM.\n",
        "# from google.colab import drive\n",
        "# drive.mount('/content/drive')\n",
        "\n",
        "# FOLDERNAME = \"Colab Notebooks\"\n",
        "# assert FOLDERNAME is not None, \"[!] Enter the foldername.\"\n",
        "\n",
        "# # Now that we've mounted your Drive, this ensures that\n",
        "# # the Python interpreter of the Colab VM can load\n",
        "# # python files from within it.\n",
        "# import sys\n",
        "# sys.path.append('/content/drive/My Drive/{}'.format(FOLDERNAME))\n",
        "\n",
        "# # This is later used to use the IMDB reviews\n",
        "%cd /content/drive/My\\ Drive/$FOLDERNAME/"
      ]
    },
    {
      "cell_type": "code",
      "execution_count": 5,
      "id": "f2970c17-9917-4f37-af3b-fc65fca95f16",
      "metadata": {
        "id": "f2970c17-9917-4f37-af3b-fc65fca95f16"
      },
      "outputs": [],
      "source": [
        "import gzip\n",
        "import math\n",
        "import random\n",
        "from collections import defaultdict\n",
        "path = \"amazon_reviews_us_Musical_Instruments_v1_00.tsv.gz\"\n",
        "f = gzip.open(path, 'rt', encoding=\"utf8\")\n",
        "\n",
        "header = f.readline()\n",
        "header = header.strip().split('\\t')"
      ]
    },
    {
      "cell_type": "code",
      "execution_count": 6,
      "id": "-cDSYyZtqbsb",
      "metadata": {
        "id": "-cDSYyZtqbsb"
      },
      "outputs": [],
      "source": [
        "dataset = []"
      ]
    },
    {
      "cell_type": "code",
      "execution_count": 7,
      "id": "Ao33X1mLqe_y",
      "metadata": {
        "id": "Ao33X1mLqe_y"
      },
      "outputs": [],
      "source": [
        "for line in f:\n",
        "    fields = line.strip().split('\\t')\n",
        "    d = dict(zip(header, fields))\n",
        "    d['star_rating'] = int(d['star_rating'])\n",
        "    d['helpful_votes'] = int(d['helpful_votes'])\n",
        "    d['total_votes'] = int(d['total_votes'])\n",
        "    dataset.append(d)"
      ]
    },
    {
      "cell_type": "code",
      "execution_count": 8,
      "id": "iZuqaejJqj6n",
      "metadata": {
        "colab": {
          "base_uri": "https://localhost:8080/"
        },
        "id": "iZuqaejJqj6n",
        "outputId": "ed8f508e-ec24-4eb2-aac0-192f82a9f8ea"
      },
      "outputs": [
        {
          "data": {
            "text/plain": [
              "{'marketplace': 'US',\n",
              " 'customer_id': '45610553',\n",
              " 'review_id': 'RMDCHWD0Y5OZ9',\n",
              " 'product_id': 'B00HH62VB6',\n",
              " 'product_parent': '618218723',\n",
              " 'product_title': 'AGPtek® 10 Isolated Output 9V 12V 18V Guitar Pedal Board Power Supply Effect Pedals with Isolated Short Cricuit / Overcurrent Protection',\n",
              " 'product_category': 'Musical Instruments',\n",
              " 'star_rating': 3,\n",
              " 'helpful_votes': 0,\n",
              " 'total_votes': 1,\n",
              " 'vine': 'N',\n",
              " 'verified_purchase': 'N',\n",
              " 'review_headline': 'Three Stars',\n",
              " 'review_body': 'Works very good, but induces ALOT of noise.',\n",
              " 'review_date': '2015-08-31'}"
            ]
          },
          "execution_count": 8,
          "metadata": {},
          "output_type": "execute_result"
        }
      ],
      "source": [
        "dataset[0]"
      ]
    },
    {
      "cell_type": "code",
      "execution_count": 9,
      "id": "fbfd11ff",
      "metadata": {},
      "outputs": [],
      "source": [
        "usersPerItem = defaultdict(set)\n",
        "itemsPerUser = defaultdict(set)"
      ]
    },
    {
      "cell_type": "code",
      "execution_count": 10,
      "id": "bfe74924",
      "metadata": {},
      "outputs": [],
      "source": [
        "itemNames = {}"
      ]
    },
    {
      "cell_type": "code",
      "execution_count": 11,
      "id": "7fb1d23e",
      "metadata": {},
      "outputs": [],
      "source": [
        "for d in dataset:\n",
        "    user,item = d['customer_id'], d['product_id']\n",
        "    usersPerItem[item].add(user)\n",
        "    itemsPerUser[user].add(item)\n",
        "    itemNames[item] = d['product_title']"
      ]
    },
    {
      "cell_type": "markdown",
      "id": "8ed03642",
      "metadata": {},
      "source": [
        "# Baseline"
      ]
    },
    {
      "cell_type": "code",
      "execution_count": 12,
      "id": "ec13934a",
      "metadata": {},
      "outputs": [],
      "source": [
        "def Jaccard(s1, s2):\n",
        "    numer = len(s1.intersection(s2))\n",
        "    denom = len(s1.union(s2))\n",
        "    return numer / denom"
      ]
    },
    {
      "cell_type": "code",
      "execution_count": 13,
      "id": "6fb274de",
      "metadata": {},
      "outputs": [],
      "source": [
        "def mostSimilar(i):\n",
        "    similarities = []\n",
        "    users = usersPerItem[i]\n",
        "    for i2 in usersPerItem:\n",
        "        if i2 == i: continue\n",
        "        sim = Jaccard(users, usersPerItem[i2])\n",
        "        similarities.append((sim,i2))\n",
        "    similarities.sort(reverse=True)\n",
        "    return similarities[:10]"
      ]
    },
    {
      "cell_type": "code",
      "execution_count": 14,
      "id": "a1013a61",
      "metadata": {},
      "outputs": [],
      "source": [
        "query = dataset[2]['product_id']"
      ]
    },
    {
      "cell_type": "code",
      "execution_count": 15,
      "id": "2ee313ee",
      "metadata": {},
      "outputs": [
        {
          "data": {
            "text/plain": [
              "[(0.028446389496717725, 'B00006I5SD'),\n",
              " (0.01694915254237288, 'B00006I5SB'),\n",
              " (0.015065913370998116, 'B000AJR482'),\n",
              " (0.014204545454545454, 'B00E7MVP3S'),\n",
              " (0.008955223880597015, 'B001255YL2'),\n",
              " (0.008849557522123894, 'B003EIRVO8'),\n",
              " (0.008333333333333333, 'B0015VEZ22'),\n",
              " (0.00821917808219178, 'B00006I5UH'),\n",
              " (0.008021390374331552, 'B00008BWM7'),\n",
              " (0.007656967840735069, 'B000H2BC4E')]"
            ]
          },
          "execution_count": 15,
          "metadata": {},
          "output_type": "execute_result"
        }
      ],
      "source": [
        "mostSimilar(query)"
      ]
    },
    {
      "cell_type": "code",
      "execution_count": 16,
      "id": "cba67ede",
      "metadata": {},
      "outputs": [
        {
          "data": {
            "text/plain": [
              "['Shure SFG-2 Stylus Tracking Force Gauge',\n",
              " 'Shure M97xE High-Performance Magnetic Phono Cartridge',\n",
              " 'ART Pro Audio DJPRE II Phono Turntable Preamplifier',\n",
              " 'Signstek Blue LCD Backlight Digital Long-Playing LP Turntable Stylus Force Scale Gauge Tester',\n",
              " 'Audio Technica AT120E/T Standard Mount Phono Cartridge',\n",
              " 'Technics: 45 Adaptor for Technics 1200 (SFWE010)',\n",
              " 'GruvGlide GRUVGLIDE DJ Package',\n",
              " 'STANTON MAGNETICS Record Cleaner Kit',\n",
              " 'Shure M97xE High-Performance Magnetic Phono Cartridge',\n",
              " 'Behringer PP400 Ultra Compact Phono Preamplifier']"
            ]
          },
          "execution_count": 16,
          "metadata": {},
          "output_type": "execute_result"
        }
      ],
      "source": [
        "[itemNames[x[1]] for x in mostSimilar(query)]"
      ]
    },
    {
      "cell_type": "code",
      "execution_count": 17,
      "id": "d454aced",
      "metadata": {},
      "outputs": [],
      "source": [
        "def mostSimilarFast(i):\n",
        "    similarities = []\n",
        "    users = usersPerItem[i]\n",
        "    candidateItems = set()\n",
        "    for u in users:\n",
        "        candidateItems = candidateItems.union(itemsPerUser[u])\n",
        "    for i2 in candidateItems:\n",
        "        if i2 == i: continue\n",
        "        sim = Jaccard(users, usersPerItem[i2])\n",
        "        similarities.append((sim,i2))\n",
        "    similarities.sort(reverse=True)\n",
        "    return similarities[:10]"
      ]
    },
    {
      "cell_type": "code",
      "execution_count": 18,
      "id": "001d01b5",
      "metadata": {},
      "outputs": [
        {
          "data": {
            "text/plain": [
              "[(0.028446389496717725, 'B00006I5SD'),\n",
              " (0.01694915254237288, 'B00006I5SB'),\n",
              " (0.015065913370998116, 'B000AJR482'),\n",
              " (0.014204545454545454, 'B00E7MVP3S'),\n",
              " (0.008955223880597015, 'B001255YL2'),\n",
              " (0.008849557522123894, 'B003EIRVO8'),\n",
              " (0.008333333333333333, 'B0015VEZ22'),\n",
              " (0.00821917808219178, 'B00006I5UH'),\n",
              " (0.008021390374331552, 'B00008BWM7'),\n",
              " (0.007656967840735069, 'B000H2BC4E')]"
            ]
          },
          "execution_count": 18,
          "metadata": {},
          "output_type": "execute_result"
        }
      ],
      "source": [
        "mostSimilarFast(query)\n"
      ]
    },
    {
      "cell_type": "markdown",
      "id": "68910d61",
      "metadata": {},
      "source": [
        "# Our Model"
      ]
    },
    {
      "cell_type": "code",
      "execution_count": null,
      "id": "2d062eca",
      "metadata": {},
      "outputs": [],
      "source": [
        "reviewsPerUser = defaultdict(list)\n",
        "reviewsPerItem = defaultdict(list)"
      ]
    },
    {
      "cell_type": "markdown",
      "id": "3d0f46f1",
      "metadata": {},
      "source": [
        "# "
      ]
    }
  ],
  "metadata": {
    "colab": {
      "provenance": []
    },
    "kernelspec": {
      "display_name": "base",
      "language": "python",
      "name": "python3"
    },
    "language_info": {
      "codemirror_mode": {
        "name": "ipython",
        "version": 3
      },
      "file_extension": ".py",
      "mimetype": "text/x-python",
      "name": "python",
      "nbconvert_exporter": "python",
      "pygments_lexer": "ipython3",
      "version": "3.12.3"
    }
  },
  "nbformat": 4,
  "nbformat_minor": 5
}
